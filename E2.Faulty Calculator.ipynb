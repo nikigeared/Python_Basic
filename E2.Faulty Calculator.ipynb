{
 "cells": [
  {
   "cell_type": "code",
   "execution_count": 2,
   "metadata": {},
   "outputs": [],
   "source": [
    "#E2 Faulty calculator\n",
    "#Design the calculator which should give correct answer except following  45*3=555,56+9=77,56/6=4\n",
    "# Get Input Operator and Input Numbers"
   ]
  },
  {
   "cell_type": "code",
   "execution_count": 16,
   "metadata": {},
   "outputs": [
    {
     "name": "stdout",
     "output_type": "stream",
     "text": [
      "Enter the Operator from [+ - * /]\n",
      "+\n",
      "Enter two Numbers\n",
      "56\n",
      "9\n",
      "answer is: 77\n"
     ]
    }
   ],
   "source": [
    "op=input(\"Enter the Operator from [+ - * /]\\n\")\n",
    "print(\"Enter two Numbers\")\n",
    "a=int(input(\"\"))\n",
    "b=int(input(\"\"))\n",
    "\n",
    "if op=='*' and a==45 and b==3:\n",
    "    print(\"answer is:\",555)\n",
    "elif op=='+' and a==56 and b==9:\n",
    "    print(\"answer is:\",77)\n",
    "elif op=='/' and a==56 and b==6:\n",
    "    print(\"answer is:\",555)\n",
    "elif op=='+':\n",
    "    print(\"answer is:\",a+b)\n",
    "elif op=='-':\n",
    "    print(\"answer is:\",a-b)\n",
    "elif op=='*':\n",
    "    print(\"answer is:\",a*b)\n",
    "elif op=='/':\n",
    "    print(\"answer is:\",a/b)"
   ]
  },
  {
   "cell_type": "code",
   "execution_count": null,
   "metadata": {},
   "outputs": [],
   "source": []
  }
 ],
 "metadata": {
  "kernelspec": {
   "display_name": "Python 3",
   "language": "python",
   "name": "python3"
  },
  "language_info": {
   "codemirror_mode": {
    "name": "ipython",
    "version": 3
   },
   "file_extension": ".py",
   "mimetype": "text/x-python",
   "name": "python",
   "nbconvert_exporter": "python",
   "pygments_lexer": "ipython3",
   "version": "3.8.3"
  }
 },
 "nbformat": 4,
 "nbformat_minor": 4
}
