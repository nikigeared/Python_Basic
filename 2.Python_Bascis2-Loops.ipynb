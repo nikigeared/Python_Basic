{
 "cells": [
  {
   "cell_type": "markdown",
   "metadata": {},
   "source": [
    "## IF ELIF"
   ]
  },
  {
   "cell_type": "code",
   "execution_count": 1,
   "metadata": {},
   "outputs": [
    {
     "name": "stdout",
     "output_type": "stream",
     "text": [
      "54\n",
      "Lesser\n"
     ]
    }
   ],
   "source": [
    "var1=7\n",
    "var2=81\n",
    "var3=int(input())\n",
    "\n",
    "if var3>var2:\n",
    "    print(\"Greater\") # space called indentation\n",
    "elif var3==var2:\n",
    "    print(\"Ewual\")\n",
    "else:\n",
    "    print(\"Lesser\")    \n"
   ]
  },
  {
   "cell_type": "markdown",
   "metadata": {},
   "source": [
    "## IN & NOT IN LIST"
   ]
  },
  {
   "cell_type": "code",
   "execution_count": 2,
   "metadata": {},
   "outputs": [
    {
     "name": "stdout",
     "output_type": "stream",
     "text": [
      "Yes it is in the list\n"
     ]
    }
   ],
   "source": [
    "list=[25,17,3, 5]\n",
    "if 3 in list:\n",
    "    print(\"Yes it is in the list\")"
   ]
  },
  {
   "cell_type": "code",
   "execution_count": 3,
   "metadata": {},
   "outputs": [
    {
     "name": "stdout",
     "output_type": "stream",
     "text": [
      "Yes it is not in the list\n"
     ]
    }
   ],
   "source": [
    "list=[25,17,3, 5]\n",
    "if 14 not in list:\n",
    "    print(\"Yes it is not in the list\")"
   ]
  },
  {
   "cell_type": "code",
   "execution_count": 4,
   "metadata": {},
   "outputs": [
    {
     "name": "stdout",
     "output_type": "stream",
     "text": [
      "What is your age\n",
      "35\n",
      "You can drive\n"
     ]
    }
   ],
   "source": [
    "print(\"What is your age\")\n",
    "age=int(input())\n",
    "\n",
    "if age < 18:\n",
    "    print(\"You cannot Drive\")\n",
    "if age==18:\n",
    "    print(\"We will think about you\")\n",
    "else:\n",
    "    print(\"You can drive\")"
   ]
  },
  {
   "cell_type": "code",
   "execution_count": 5,
   "metadata": {},
   "outputs": [],
   "source": [
    "# Design calculation which will correctly solve all the problems except following problem\n",
    "#45*3=555,56+9=77,56/6=4"
   ]
  },
  {
   "cell_type": "code",
   "execution_count": 16,
   "metadata": {},
   "outputs": [
    {
     "name": "stdout",
     "output_type": "stream",
     "text": [
      "Enter operator:*\n",
      "Enter first Number = 45\n",
      "Enter second Number = 3\n",
      "555\n"
     ]
    }
   ],
   "source": [
    "operator = input(\"Enter operator:\")\n",
    "num1 = int(input(\"Enter first Number = \"))\n",
    "num2 = int(input(\"Enter second Number = \"))\n",
    "\n",
    "if operator == \"+\":\n",
    "    if num1 == 56 and num2 == 9:\n",
    "        print(\"77\")\n",
    "    else:\n",
    "        print(\"Result is:\",num1 + num2)\n",
    "if operator == \"-\":\n",
    "    print(\"Result is:\",num1-num2)\n",
    "if operator == \"*\":\n",
    "    if num1 == 45 and num2 == 3:\n",
    "        print(\"555\")\n",
    "    else:\n",
    "        print(\"Result is :\",num1*num2)\n",
    "if operator == \"/\":\n",
    "    if num1 ==56 and num2 == 6:\n",
    "        print(\"4\")\n",
    "    else:\n",
    "        print(\"Result is:\",(num1/num2))"
   ]
  },
  {
   "cell_type": "markdown",
   "metadata": {},
   "source": [
    "## FOR"
   ]
  },
  {
   "cell_type": "code",
   "execution_count": 6,
   "metadata": {},
   "outputs": [
    {
     "name": "stdout",
     "output_type": "stream",
     "text": [
      "25\n",
      "17\n",
      "3\n",
      "5\n"
     ]
    }
   ],
   "source": [
    "list1=[\"Nikhil\",\"Mighil\",\"Shyam\",\"Deepth\"]\n",
    "\n",
    "for item in list:\n",
    "    print(item)\n"
   ]
  },
  {
   "cell_type": "code",
   "execution_count": 7,
   "metadata": {},
   "outputs": [
    {
     "name": "stdout",
     "output_type": "stream",
     "text": [
      "Nikhil and lolly is 1\n",
      "Mighil and lolly is 3\n",
      "Shyam and lolly is 5\n",
      "Deepth and lolly is 7\n"
     ]
    }
   ],
   "source": [
    "list1=[[\"Nikhil\",1],[\"Mighil\",3],[\"Shyam\",5],[\"Deepth\",7]]\n",
    "for item,lollypop in list1:\n",
    "    print(item,\"and lolly is\",lollypop)"
   ]
  },
  {
   "cell_type": "code",
   "execution_count": 8,
   "metadata": {},
   "outputs": [
    {
     "name": "stdout",
     "output_type": "stream",
     "text": [
      "Nikhil and lolly is 1\n",
      "Mighil and lolly is 3\n",
      "Shyam and lolly is 5\n",
      "Deepth and lolly is 7\n"
     ]
    }
   ],
   "source": [
    "dict1 =dict(list1)\n",
    "#for item,lollypop in dict1.items(): #This will leads to error\n",
    "for item,lollypop in dict1.items():\n",
    "    print(item,\"and lolly is\",lollypop)"
   ]
  },
  {
   "cell_type": "code",
   "execution_count": 9,
   "metadata": {},
   "outputs": [
    {
     "name": "stdout",
     "output_type": "stream",
     "text": [
      "Nikhil\n",
      "Mighil\n",
      "Shyam\n",
      "Deepth\n"
     ]
    }
   ],
   "source": [
    "for item in dict1:\n",
    "    print(item)"
   ]
  },
  {
   "cell_type": "code",
   "execution_count": 10,
   "metadata": {},
   "outputs": [
    {
     "name": "stdout",
     "output_type": "stream",
     "text": [
      "6\n",
      "78\n",
      "12\n",
      "8\n"
     ]
    }
   ],
   "source": [
    "list1=[\"as\",\"lisi\", 5, 6, 78, 5,12,\"abc\", 8]\n",
    "\n",
    "for item in list1:\n",
    "    if str(item).isnumeric() and item >=6:\n",
    "        print(item)"
   ]
  },
  {
   "cell_type": "markdown",
   "metadata": {},
   "source": [
    "## While Loop"
   ]
  },
  {
   "cell_type": "code",
   "execution_count": 11,
   "metadata": {},
   "outputs": [
    {
     "name": "stdout",
     "output_type": "stream",
     "text": [
      "0\n",
      "1\n",
      "2\n",
      "3\n",
      "4\n"
     ]
    }
   ],
   "source": [
    "i=0\n",
    "\n",
    "while(i<5):\n",
    "    print(i)\n",
    "    i=i+1    "
   ]
  },
  {
   "cell_type": "markdown",
   "metadata": {},
   "source": [
    "## Break and Continue"
   ]
  },
  {
   "cell_type": "code",
   "execution_count": 16,
   "metadata": {},
   "outputs": [
    {
     "name": "stdout",
     "output_type": "stream",
     "text": [
      "6 7 8 9 10 11 12 13 14 15 16 17 18 19 20 21 22 23 24 25 26 27 28 29 30 31 32 33 34 35 36 37 38 39 40 41 42 43 44 45 "
     ]
    }
   ],
   "source": [
    "i=0\n",
    "while(True):\n",
    "    if i < 5:\n",
    "        i=i+1\n",
    "        continue\n",
    "    print(i+1, end=\" \")\n",
    "\n",
    "    if(i==44):\n",
    "        break\n",
    "    i=i+1    "
   ]
  },
  {
   "cell_type": "code",
   "execution_count": 8,
   "metadata": {},
   "outputs": [
    {
     "name": "stdout",
     "output_type": "stream",
     "text": [
      "Enter a Number25\n",
      "Try Again!\n",
      "Enter a Number54\n",
      "Try Again!\n",
      "Enter a Number111\n",
      "You have Entered a Number Graeter than 100\n"
     ]
    }
   ],
   "source": [
    "while(True):\n",
    "    inp=int(input(\"Enter a Number\"))\n",
    "    if inp>100:\n",
    "        print(\"You have Entered a Number Graeter than 100\")\n",
    "        break\n",
    "    \n",
    "    else:\n",
    "        print(\"Try Again!\")\n",
    "    continue"
   ]
  },
  {
   "cell_type": "markdown",
   "metadata": {},
   "source": [
    "#On line If else Statememt"
   ]
  },
  {
   "cell_type": "code",
   "execution_count": 18,
   "metadata": {},
   "outputs": [
    {
     "name": "stdout",
     "output_type": "stream",
     "text": [
      "enter the number of a =25\n",
      "enter the number of b =645\n",
      "b is greater \n"
     ]
    }
   ],
   "source": [
    "print(\"a is greater\") if(int(input(\"enter the number of a =\"))>int(input(\"enter the number of b =\"))) else  print(\"b is greater \")"
   ]
  },
  {
   "cell_type": "markdown",
   "metadata": {},
   "source": [
    "Guess The Number"
   ]
  },
  {
   "cell_type": "code",
   "execution_count": 25,
   "metadata": {},
   "outputs": [
    {
     "name": "stdout",
     "output_type": "stream",
     "text": [
      "Number of guesses is limited to only 9 times: \n",
      "Guess the number :\n",
      "25\n",
      "you enter greater number please input smaller number.\n",
      " \n",
      "8 no. of guesses left\n",
      "Guess the number :\n",
      "225\n",
      "you enter greater number please input smaller number.\n",
      " \n",
      "7 no. of guesses left\n",
      "Guess the number :\n",
      "18\n",
      "you won\n",
      "\n",
      "3 no.of guesses he took to finish.\n"
     ]
    }
   ],
   "source": [
    "n=21\n",
    "attempt=1\n",
    "print(\"Number of guesses is limited to only 9 times: \")\n",
    "while (number_of_guesses<=9):\n",
    "    guess_number = int(input(\"Guess the number :\\n\"))\n",
    "    if guess_number<18:\n",
    "        print(\"you entered number is smaller than the actual number\\n\")\n",
    "    elif guess_number>18:\n",
    "        print(\"you enter greater number please input smaller number.\\n \")\n",
    "    else:\n",
    "        print(\"you won\\n\")\n",
    "        print(attempt,\"no.of guesses he took to finish.\")\n",
    "        break\n",
    "    print(9-attempt,\"no. of guesses left\")\n",
    "    attempt = attempt + 1\n",
    "\n",
    "if(number_of_guesses>9):\n",
    "    print(\"Game Over\")"
   ]
  },
  {
   "cell_type": "code",
   "execution_count": null,
   "metadata": {},
   "outputs": [],
   "source": []
  }
 ],
 "metadata": {
  "kernelspec": {
   "display_name": "Python 3",
   "language": "python",
   "name": "python3"
  },
  "language_info": {
   "codemirror_mode": {
    "name": "ipython",
    "version": 3
   },
   "file_extension": ".py",
   "mimetype": "text/x-python",
   "name": "python",
   "nbconvert_exporter": "python",
   "pygments_lexer": "ipython3",
   "version": "3.7.6"
  }
 },
 "nbformat": 4,
 "nbformat_minor": 4
}
