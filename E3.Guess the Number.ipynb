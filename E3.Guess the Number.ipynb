{
 "cells": [
  {
   "cell_type": "code",
   "execution_count": null,
   "metadata": {},
   "outputs": [],
   "source": [
    "# Guess the Number\n",
    "#Number of Guesses:5\n",
    "#Print Number of Guesses Left\n",
    "# You Won or Game Over"
   ]
  },
  {
   "cell_type": "code",
   "execution_count": 7,
   "metadata": {},
   "outputs": [
    {
     "name": "stdout",
     "output_type": "stream",
     "text": [
      "Predict your Guess:28\n",
      "Secreat Number is less than your guess\n",
      "Number of Guesses Left: 4\n",
      "Predict your Guess:21\n",
      "Secreat Number is more than your guess\n",
      "Number of Guesses Left: 3\n",
      "Predict your Guess:24\n",
      "Secreat Number is more than your guess\n",
      "Number of Guesses Left: 2\n",
      "Predict your Guess:25\n",
      "You Won\n",
      "Number of Attempt Taken: 4\n"
     ]
    }
   ],
   "source": [
    "g=25\n",
    "j=0\n",
    "for i in range(5):\n",
    "    j=i\n",
    "    p=input(\"Predict your Guess:\")\n",
    "    pn=int(p)\n",
    "    if j==4:\n",
    "        print(\"Game Over\")\n",
    "        break;\n",
    "    if pn>25:\n",
    "        print(\"Secreat Number is less than your guess\")\n",
    "        print(\"Number of Guesses Left:\",5-(j+1))\n",
    "    elif pn<25:\n",
    "        print(\"Secreat Number is more than your guess\")\n",
    "        print(\"Number of Guesses Left:\",5-(j+1))\n",
    "    elif pn==25:\n",
    "        print(\"You Won\")\n",
    "        print(\"Number of Attempt Taken:\",j+1)\n",
    "        break;"
   ]
  }
 ],
 "metadata": {
  "kernelspec": {
   "display_name": "Python 3",
   "language": "python",
   "name": "python3"
  }
 },
 "nbformat": 4,
 "nbformat_minor": 4
}
