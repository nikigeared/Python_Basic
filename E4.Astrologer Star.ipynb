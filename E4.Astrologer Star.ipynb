{
 "cells": [
  {
   "cell_type": "code",
   "execution_count": 1,
   "metadata": {},
   "outputs": [],
   "source": [
    "# Pattern Printing \n",
    "# input =integer n\n",
    "# Boolean True or False\n",
    "#Output\\\n",
    "# If True\n",
    "#*\n",
    "#**\n",
    "#***\n",
    "#****\n",
    "#*****\n",
    "\n",
    "# If False\n",
    "#*****\n",
    "#****\n",
    "#***\n",
    "#**\n",
    "#*"
   ]
  },
  {
   "cell_type": "code",
   "execution_count": 2,
   "metadata": {},
   "outputs": [
    {
     "name": "stdout",
     "output_type": "stream",
     "text": [
      "Enter Number of Lines of pattern Required:7\n",
      "Enter Boolean 'True or 'False':False\n",
      "*******\n",
      "******\n",
      "*****\n",
      "****\n",
      "***\n",
      "**\n",
      "*\n"
     ]
    }
   ],
   "source": [
    "n=int(input(\"Enter Number of Lines of pattern Required:\"))\n",
    "b=input(\"Enter Boolean 'True or 'False':\")\n",
    "if b=='True':\n",
    "    for i in range(n):\n",
    "        print((i+1)*'*')\n",
    "elif b=='False':\n",
    "    for i in range(n):\n",
    "        print((n-i)*'*')\n",
    "else:\n",
    "    print('invalid Input')"
   ]
  },
  {
   "cell_type": "code",
   "execution_count": 37,
   "metadata": {},
   "outputs": [
    {
     "name": "stdout",
     "output_type": "stream",
     "text": [
      "Enter Number of Lines of pattern Required:7\n",
      "Please enter'0' for 'False' and any other number for true:0\n",
      "False\n",
      "*******\n",
      "******\n",
      "*****\n",
      "****\n",
      "***\n",
      "**\n",
      "*\n"
     ]
    }
   ],
   "source": [
    "n=int(input(\"Enter Number of Lines of pattern Required:\"))\n",
    "b=input(\"Please enter'0' for 'False' and any other number for true:\")\n",
    "c = bool(int(b))\n",
    "print(c)\n",
    "if c == True:\n",
    "    for i in range(n):\n",
    "       print((i+1)*'*')\n",
    "elif c == False:\n",
    "       for i in range(n):\n",
    "        print((n-i)*'*')\n",
    "else:\n",
    "    print('invalid Input')"
   ]
  }
 ],
 "metadata": {
  "kernelspec": {
   "display_name": "Python 3",
   "language": "python",
   "name": "python3"
  },
  "language_info": {
   "codemirror_mode": {
    "name": "ipython",
    "version": 3
   },
   "file_extension": ".py",
   "mimetype": "text/x-python",
   "name": "python",
   "nbconvert_exporter": "python",
   "pygments_lexer": "ipython3",
   "version": "3.8.3"
  }
 },
 "nbformat": 4,
 "nbformat_minor": 4
}
