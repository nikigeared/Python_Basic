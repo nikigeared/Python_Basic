{
 "cells": [
  {
   "cell_type": "code",
   "execution_count": null,
   "metadata": {},
   "outputs": [],
   "source": [
    "# Create a Dictionary 5 set\n",
    "# Get Input from User\n",
    "#Return the Meaning of the Word"
   ]
  },
  {
   "cell_type": "code",
   "execution_count": 7,
   "metadata": {},
   "outputs": [
    {
     "name": "stdout",
     "output_type": "stream",
     "text": [
      "Choose the value from 1 to 5 \n",
      "2\n",
      "Output corresponding to value 2 is Two\n"
     ]
    }
   ],
   "source": [
    "dict={\"1\":'One',\"2\":'Two',\"3\":'Three',\"4\":'Four',\"5\":'Five'}\n",
    "x=input(\"Choose the value from 1 to 5 \\n\")\n",
    "y=dict.get(x)\n",
    "print(f\"Output corresponding to value {x} is {y}\")"
   ]
  },
  {
   "cell_type": "code",
   "execution_count": 9,
   "metadata": {},
   "outputs": [
    {
     "name": "stdout",
     "output_type": "stream",
     "text": [
      "Two\n"
     ]
    }
   ],
   "source": [
    "y=dict[x]\n",
    "print(y)"
   ]
  }
 ],
 "metadata": {
  "kernelspec": {
   "display_name": "Python 3",
   "language": "python",
   "name": "python3"
  },
  "language_info": {
   "codemirror_mode": {
    "name": "ipython",
    "version": 3
   },
   "file_extension": ".py",
   "mimetype": "text/x-python",
   "name": "python",
   "nbconvert_exporter": "python",
   "pygments_lexer": "ipython3",
   "version": "3.8.3"
  }
 },
 "nbformat": 4,
 "nbformat_minor": 4
}
